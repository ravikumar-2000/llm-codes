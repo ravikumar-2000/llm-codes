{
 "cells": [
  {
   "cell_type": "code",
   "execution_count": null,
   "metadata": {},
   "outputs": [],
   "source": [
    "import torch\n",
    "import torch.nn as nn\n",
    "from tqdm import tqdm\n",
    "import torch.nn.functional as F\n",
    "\n",
    "torch.manual_seed(47)"
   ]
  },
  {
   "cell_type": "code",
   "execution_count": null,
   "metadata": {},
   "outputs": [],
   "source": [
    "def get_device():\n",
    "    if torch.cuda.is_available():\n",
    "        return torch.device(\"cuda\")\n",
    "    elif torch.backends.mps.is_available():\n",
    "        return torch.device(\"mps\")\n",
    "    return torch.device(\"cpu\")"
   ]
  },
  {
   "cell_type": "code",
   "execution_count": null,
   "metadata": {},
   "outputs": [],
   "source": [
    "DEVICE = get_device()\n",
    "BLOCK_SIZE = 256\n",
    "BATCH_SIZE = 64\n",
    "EVAL_ITERS = 100\n",
    "EVAL_EPOCHS = 100\n",
    "VOCAB_SIZE = None\n",
    "EMBED_SIZE = 128\n",
    "NUM_HEADS = 8\n",
    "NUM_LAYERS = 4\n",
    "DROPOUT_PCT = 0.2\n",
    "LEARNING_RATE = 3e-4\n",
    "print(f\"{DEVICE} enabled!\")"
   ]
  },
  {
   "cell_type": "code",
   "execution_count": null,
   "metadata": {},
   "outputs": [],
   "source": [
    "with open(file=\"datasets/input.txt\", mode=\"r\", encoding=\"utf-8\") as f:\n",
    "    text = f.read()\n",
    "print(text)"
   ]
  },
  {
   "cell_type": "code",
   "execution_count": null,
   "metadata": {},
   "outputs": [],
   "source": [
    "chars = sorted(set(text))\n",
    "VOCAB_SIZE = len(chars)\n",
    "print(len(chars), chars)"
   ]
  },
  {
   "cell_type": "code",
   "execution_count": null,
   "metadata": {},
   "outputs": [],
   "source": [
    "string_to_int = {c: i for i, c in enumerate(chars)}\n",
    "int_to_string = {i: c for i, c in enumerate(chars)}\n",
    "encode = lambda s: [string_to_int[c] for c in s]\n",
    "decode = lambda l: \"\".join([int_to_string[i] for i in l])"
   ]
  },
  {
   "cell_type": "code",
   "execution_count": null,
   "metadata": {},
   "outputs": [],
   "source": [
    "encoded_data = encode(\"hi there\")\n",
    "print(f\"encoded data: {encoded_data}\")\n",
    "decoded_data = decode(encoded_data)\n",
    "print(f\"decoded data: {decoded_data}\")"
   ]
  },
  {
   "cell_type": "code",
   "execution_count": null,
   "metadata": {},
   "outputs": [],
   "source": [
    "data = encode(text)\n",
    "tensor_data = torch.tensor(data, dtype=torch.long)\n",
    "tensor_data[:100]"
   ]
  },
  {
   "cell_type": "code",
   "execution_count": null,
   "metadata": {},
   "outputs": [],
   "source": [
    "train_split = int(0.8 * len(tensor_data))\n",
    "train_data = tensor_data[:train_split]\n",
    "val_data = tensor_data[train_split:]\n",
    "print(f\"training data size: {len(train_data)}\\nval data size: {len(val_data)}\")"
   ]
  },
  {
   "cell_type": "code",
   "execution_count": null,
   "metadata": {},
   "outputs": [],
   "source": [
    "def get_batch(split):\n",
    "    data = train_data if split == \"train\" else val_data\n",
    "    ix = torch.randint(len(data) - BLOCK_SIZE, (BATCH_SIZE,))\n",
    "    x = torch.stack([data[i : i + BLOCK_SIZE] for i in ix])\n",
    "    y = torch.stack([data[i + 1 : i + BLOCK_SIZE + 1] for i in ix])\n",
    "    return x.to(DEVICE), y.to(DEVICE)"
   ]
  },
  {
   "cell_type": "code",
   "execution_count": null,
   "metadata": {},
   "outputs": [],
   "source": [
    "xb, yb = get_batch(\"train\")\n",
    "print(f\"inputs: {xb}\\nshape: {xb.shape}\\n\")\n",
    "print(f\"outputs: {yb}\\nshape: {yb.shape}\\n\")\n",
    "\n",
    "# for b in range(BATCH_SIZE):\n",
    "#     for t in range(BLOCK_SIZE):\n",
    "#         input = xb[b, : t + 1]\n",
    "#         output = yb[b, t]\n",
    "#         print(f\"when input is {input} output is {output}\")\n",
    "#     print()"
   ]
  },
  {
   "cell_type": "code",
   "execution_count": null,
   "metadata": {},
   "outputs": [],
   "source": [
    "class FeedForward(nn.Module):\n",
    "    def __init__(self, hidden_size):\n",
    "        super(FeedForward, self).__init__()\n",
    "        self.ff_layer = nn.Sequential(\n",
    "            nn.Linear(hidden_size, hidden_size*4),\n",
    "            nn.ReLU(),\n",
    "            nn.Linear(hidden_size*4, hidden_size),\n",
    "            nn.Dropout(DROPOUT_PCT),\n",
    "        )\n",
    "\n",
    "    def forward(self, x):\n",
    "        return self.ff_layer(x)"
   ]
  },
  {
   "cell_type": "code",
   "execution_count": null,
   "metadata": {},
   "outputs": [],
   "source": [
    "class SelfAttentionHead(nn.Module):\n",
    "    def __init__(self, head_size) -> None:\n",
    "        super(SelfAttentionHead, self).__init__()\n",
    "        self.key = nn.Linear(EMBED_SIZE, head_size)\n",
    "        self.query = nn.Linear(EMBED_SIZE, head_size)\n",
    "        self.value = nn.Linear(EMBED_SIZE, head_size)\n",
    "        self.register_buffer(\n",
    "            name=\"tril\", tensor=torch.tril(torch.ones(BLOCK_SIZE, BLOCK_SIZE))\n",
    "        )\n",
    "        self.dropout = nn.Dropout(DROPOUT_PCT)\n",
    "\n",
    "    def forward(self, x):\n",
    "        B, T, C = x.shape\n",
    "        k = self.key(x)\n",
    "        q = self.query(x)\n",
    "        weight = q @ k.transpose(-2, -1) * C**-0.5\n",
    "        weight = weight.masked_fill(self.tril[:T, :T] == 0, float(\"-inf\"))\n",
    "        weight = F.softmax(weight, dim=-1)\n",
    "        weight = self.dropout(weight)\n",
    "        v = self.value(x)\n",
    "        out = weight @ v\n",
    "        return out"
   ]
  },
  {
   "cell_type": "code",
   "execution_count": null,
   "metadata": {},
   "outputs": [],
   "source": [
    "class MultiHeadAttention(nn.Module):\n",
    "    def __init__(self, num_heads, head_size) -> None:\n",
    "        super(MultiHeadAttention, self).__init__()\n",
    "        self.heads = nn.ModuleList(\n",
    "            [SelfAttentionHead(head_size) for _ in range(num_heads)]\n",
    "        )\n",
    "        self.proj = nn.Linear(EMBED_SIZE, EMBED_SIZE)\n",
    "        self.dropout = nn.Dropout(DROPOUT_PCT)\n",
    "\n",
    "    def forward(self, x):\n",
    "        out = torch.cat([h(x) for h in self.heads], dim=-1)\n",
    "        out = self.proj(out)\n",
    "        out = self.dropout(out)\n",
    "        return out"
   ]
  },
  {
   "cell_type": "code",
   "execution_count": null,
   "metadata": {},
   "outputs": [],
   "source": [
    "class Block(nn.Module):\n",
    "    def __init__(self, num_heads):\n",
    "        super(Block, self).__init__()\n",
    "        self.sa_heads = MultiHeadAttention(\n",
    "            num_heads=num_heads, head_size=EMBED_SIZE // num_heads\n",
    "        )\n",
    "        self.ff_layer = FeedForward(EMBED_SIZE)\n",
    "        self.ln1_layer = nn.LayerNorm(EMBED_SIZE)\n",
    "        self.ln2_layer = nn.LayerNorm(EMBED_SIZE)\n",
    "\n",
    "    def forward(self, x):\n",
    "        x = x + self.sa_heads(self.ln1_layer(x))\n",
    "        x = x + self.ff_layer(self.ln2_layer(x))\n",
    "        return x"
   ]
  },
  {
   "cell_type": "code",
   "execution_count": null,
   "metadata": {},
   "outputs": [],
   "source": [
    "class BiagramLanguageModel(nn.Module):\n",
    "    def __init__(self) -> None:\n",
    "        super(BiagramLanguageModel, self).__init__()\n",
    "        self.token_embeddings_table = nn.Embedding(VOCAB_SIZE, EMBED_SIZE)\n",
    "        self.positional_embeddings_table = nn.Embedding(BLOCK_SIZE, EMBED_SIZE)\n",
    "        self.blocks = nn.Sequential(*([Block(num_heads=NUM_HEADS) for _ in range(NUM_LAYERS)] + [nn.LayerNorm(EMBED_SIZE)]))\n",
    "        self.lm_head = nn.Linear(EMBED_SIZE, VOCAB_SIZE)\n",
    "\n",
    "    def forward(self, idx, targets=None):\n",
    "        B, T = idx.shape\n",
    "        token_embeddings = self.token_embeddings_table(idx)\n",
    "        position_embeddings = self.positional_embeddings_table(\n",
    "            torch.arange(T, device=DEVICE)\n",
    "        )\n",
    "        x = token_embeddings + position_embeddings\n",
    "        x = self.blocks(x)\n",
    "        logits = self.lm_head(x)\n",
    "        loss = None\n",
    "        if targets is not None:\n",
    "            B, T, C = logits.shape\n",
    "            logits = logits.view(B * T, C)\n",
    "            targets = targets.view(-1)\n",
    "            loss = F.cross_entropy(logits, targets)\n",
    "        return logits, loss\n",
    "\n",
    "    def generate(self, idx, max_tokens):\n",
    "        for _ in range(max_tokens):\n",
    "            idx_cond = idx[:, -BLOCK_SIZE:]\n",
    "            logits, loss = self(idx_cond)\n",
    "            logits = logits[:, -1, :]\n",
    "            probs = F.softmax(logits, dim=-1)\n",
    "            idx_next = torch.multinomial(probs, num_samples=1)\n",
    "            idx = torch.cat((idx, idx_next), dim=1)\n",
    "        return idx"
   ]
  },
  {
   "cell_type": "code",
   "execution_count": null,
   "metadata": {},
   "outputs": [],
   "source": [
    "model = BiagramLanguageModel()\n",
    "model = model.to(DEVICE)\n",
    "logits, loss = model(xb, yb)\n",
    "print(logits.shape, loss)"
   ]
  },
  {
   "cell_type": "code",
   "execution_count": null,
   "metadata": {},
   "outputs": [],
   "source": [
    "decode(\n",
    "    model.generate(torch.zeros(1, 1, dtype=torch.long).to(DEVICE), max_tokens=100)[\n",
    "        0\n",
    "    ].tolist()\n",
    ")"
   ]
  },
  {
   "cell_type": "code",
   "execution_count": null,
   "metadata": {},
   "outputs": [],
   "source": [
    "optimiser = torch.optim.AdamW(model.parameters(), lr=LEARNING_RATE)"
   ]
  },
  {
   "cell_type": "code",
   "execution_count": null,
   "metadata": {},
   "outputs": [],
   "source": [
    "@torch.no_grad\n",
    "def estimate_loss():\n",
    "    out = {}\n",
    "    model.eval()\n",
    "    for split in [\"train\", \"val\"]:\n",
    "        losses = torch.zeros(EVAL_ITERS)\n",
    "        for k in range(EVAL_ITERS):\n",
    "            xb, yb = get_batch(split)\n",
    "            logits, loss = model(xb, yb)\n",
    "            losses[k] = loss.item()\n",
    "        out[split] = losses.mean()\n",
    "    model.train()\n",
    "    return out"
   ]
  },
  {
   "cell_type": "code",
   "execution_count": null,
   "metadata": {},
   "outputs": [],
   "source": [
    "for epoch in tqdm(range(4000)):\n",
    "    xb, yb = get_batch(\"train\")\n",
    "    xb = xb.to(DEVICE)\n",
    "    yb = yb.to(DEVICE)\n",
    "    logits, loss = model(xb, yb)\n",
    "    optimiser.zero_grad()\n",
    "    loss.backward()\n",
    "    optimiser.step()\n",
    "    if epoch % EVAL_EPOCHS == 0:\n",
    "        losses = estimate_loss()\n",
    "        tqdm.write(\n",
    "            f\"epoch: {epoch} | training loss: {losses['train']:.4f} validation loss: {losses['val']:.4f}\"\n",
    "        )"
   ]
  },
  {
   "cell_type": "code",
   "execution_count": null,
   "metadata": {},
   "outputs": [],
   "source": [
    "print(\n",
    "    decode(\n",
    "        model.generate(torch.zeros(1, 1, dtype=torch.long).to(DEVICE), max_tokens=1000)[\n",
    "            0\n",
    "        ].tolist()\n",
    "    )\n",
    ")"
   ]
  }
 ],
 "metadata": {
  "kernelspec": {
   "display_name": "llm-env",
   "language": "python",
   "name": "python3"
  },
  "language_info": {
   "codemirror_mode": {
    "name": "ipython",
    "version": 3
   },
   "file_extension": ".py",
   "mimetype": "text/x-python",
   "name": "python",
   "nbconvert_exporter": "python",
   "pygments_lexer": "ipython3",
   "version": "3.11.8"
  }
 },
 "nbformat": 4,
 "nbformat_minor": 2
}
