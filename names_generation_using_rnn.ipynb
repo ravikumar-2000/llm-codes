{
 "cells": [
  {
   "cell_type": "code",
   "execution_count": 24,
   "metadata": {},
   "outputs": [],
   "source": [
    "import os\n",
    "import glob\n",
    "import math\n",
    "import time\n",
    "import string\n",
    "import random\n",
    "import unicodedata\n",
    "import matplotlib.pyplot as plt\n",
    "import matplotlib.ticker as ticker\n",
    "\n",
    "import torch\n",
    "from torch import nn, optim\n",
    "import torch.nn.functional as F"
   ]
  },
  {
   "cell_type": "code",
   "execution_count": 25,
   "metadata": {},
   "outputs": [],
   "source": [
    "def find_files(path):\n",
    "    return glob.glob(path)"
   ]
  },
  {
   "cell_type": "code",
   "execution_count": 26,
   "metadata": {},
   "outputs": [
    {
     "data": {
      "text/plain": [
       "['datasets/names_data/names/Czech.txt',\n",
       " 'datasets/names_data/names/German.txt',\n",
       " 'datasets/names_data/names/Arabic.txt',\n",
       " 'datasets/names_data/names/Japanese.txt',\n",
       " 'datasets/names_data/names/Chinese.txt',\n",
       " 'datasets/names_data/names/Vietnamese.txt',\n",
       " 'datasets/names_data/names/Russian.txt',\n",
       " 'datasets/names_data/names/French.txt',\n",
       " 'datasets/names_data/names/Irish.txt',\n",
       " 'datasets/names_data/names/English.txt',\n",
       " 'datasets/names_data/names/Spanish.txt',\n",
       " 'datasets/names_data/names/Greek.txt',\n",
       " 'datasets/names_data/names/Italian.txt',\n",
       " 'datasets/names_data/names/Portuguese.txt',\n",
       " 'datasets/names_data/names/Scottish.txt',\n",
       " 'datasets/names_data/names/Dutch.txt',\n",
       " 'datasets/names_data/names/Korean.txt',\n",
       " 'datasets/names_data/names/Polish.txt']"
      ]
     },
     "execution_count": 26,
     "metadata": {},
     "output_type": "execute_result"
    }
   ],
   "source": [
    "find_files(\"datasets/names_data/names/*.txt\")"
   ]
  },
  {
   "cell_type": "code",
   "execution_count": 27,
   "metadata": {},
   "outputs": [],
   "source": [
    "all_letters = string.ascii_letters + \" .,;'-\"\n",
    "n_letters = len(all_letters) + 1"
   ]
  },
  {
   "cell_type": "code",
   "execution_count": 28,
   "metadata": {},
   "outputs": [],
   "source": [
    "def unicode_to_ascii(word):\n",
    "    return \"\".join(\n",
    "        c\n",
    "        for c in unicodedata.normalize(\"NFD\", word)\n",
    "        if unicodedata.category(c) != \"Mn\" and c in all_letters\n",
    "    )"
   ]
  },
  {
   "cell_type": "code",
   "execution_count": 29,
   "metadata": {},
   "outputs": [
    {
     "data": {
      "text/plain": [
       "('Slusarski', 'Jalapeno')"
      ]
     },
     "execution_count": 29,
     "metadata": {},
     "output_type": "execute_result"
    }
   ],
   "source": [
    "unicode_to_ascii(\"Ślusàrski\"), unicode_to_ascii(\"Jalapeño\")"
   ]
  },
  {
   "cell_type": "code",
   "execution_count": 30,
   "metadata": {},
   "outputs": [],
   "source": [
    "def read_lines(filename):\n",
    "    lines = open(filename, encoding=\"utf-8\").read().strip().split(\"\\n\")\n",
    "    return [unicode_to_ascii(line) for line in lines]"
   ]
  },
  {
   "cell_type": "code",
   "execution_count": 31,
   "metadata": {},
   "outputs": [],
   "source": [
    "category_lines = {}\n",
    "all_categories = []\n",
    "\n",
    "\n",
    "for filename in find_files(\"datasets/names_data/names/*.txt\"):\n",
    "    category = os.path.splitext(os.path.basename(filename))[0]\n",
    "    all_categories.append(category)\n",
    "    lines = read_lines(filename)\n",
    "    category_lines[category] = lines\n",
    "\n",
    "n_categories = len(all_categories)"
   ]
  },
  {
   "cell_type": "code",
   "execution_count": 32,
   "metadata": {},
   "outputs": [
    {
     "data": {
      "text/plain": [
       "['Abandonato', 'Abatangelo', 'Abatantuono', 'Abate', 'Abategiovanni']"
      ]
     },
     "execution_count": 32,
     "metadata": {},
     "output_type": "execute_result"
    }
   ],
   "source": [
    "category_lines[\"Italian\"][:5]"
   ]
  },
  {
   "cell_type": "code",
   "execution_count": 33,
   "metadata": {},
   "outputs": [],
   "source": [
    "def category_to_tensor(category):\n",
    "    category_idx = all_categories.index(category)\n",
    "    tensor = torch.zeros(1, n_categories)\n",
    "    tensor[0][category_idx] = 1\n",
    "    return tensor\n",
    "\n",
    "\n",
    "def letter_to_index(letter):\n",
    "    return all_letters.find(letter)\n",
    "\n",
    "\n",
    "def letter_to_tensor(letter):\n",
    "    tensor = torch.zeros(1, n_letters)\n",
    "    tensor[0][letter_to_index(letter)] = 1\n",
    "    return tensor\n",
    "\n",
    "\n",
    "def line_to_tensor(line):\n",
    "    tensor = torch.zeros(len(line), 1, n_letters)\n",
    "    for idx, letter in enumerate(line):\n",
    "        tensor[idx] = letter_to_tensor(letter)\n",
    "    return tensor\n",
    "\n",
    "\n",
    "def target_line_to_tensor(line):\n",
    "    letter_indices = [all_letters.index(line[idx]) for idx in range(1, len(line))]\n",
    "    letter_indices.append(n_letters - 1)\n",
    "    return torch.LongTensor(letter_indices)\n",
    "\n",
    "\n",
    "def category_from_output(output):\n",
    "    top_n, top_i = output.topk(1)\n",
    "    category_i = top_i[0].item()\n",
    "    return all_categories[category_i], category_i"
   ]
  },
  {
   "cell_type": "code",
   "execution_count": 34,
   "metadata": {},
   "outputs": [
    {
     "name": "stdout",
     "output_type": "stream",
     "text": [
      "tensor([[0., 0., 0., 0., 0., 0., 0., 0., 0., 0., 0., 0., 0., 0., 0., 0., 0., 0.,\n",
      "         0., 0., 0., 0., 0., 0., 0., 0., 0., 0., 0., 0., 0., 0., 0., 0., 0., 1.,\n",
      "         0., 0., 0., 0., 0., 0., 0., 0., 0., 0., 0., 0., 0., 0., 0., 0., 0., 0.,\n",
      "         0., 0., 0., 0., 0.]])\n",
      "torch.Size([5, 1, 59])\n",
      "torch.Size([5])\n"
     ]
    }
   ],
   "source": [
    "print(letter_to_tensor(\"J\"))\n",
    "print(line_to_tensor(\"Jones\").size())\n",
    "print(target_line_to_tensor(\"Jones\").size())"
   ]
  },
  {
   "cell_type": "code",
   "execution_count": 35,
   "metadata": {},
   "outputs": [],
   "source": [
    "def random_training_pair():\n",
    "    category = random.choice(all_categories)\n",
    "    line = random.choice(category_lines[category])\n",
    "    return category, line"
   ]
  },
  {
   "cell_type": "code",
   "execution_count": 36,
   "metadata": {},
   "outputs": [],
   "source": [
    "def random_training_example():\n",
    "    category, line = random_training_pair()\n",
    "    category_tensor = category_to_tensor(category)\n",
    "    line_tensor = line_to_tensor(line)\n",
    "    target_tensor = target_line_to_tensor(line)\n",
    "    return category_tensor, line_tensor, target_tensor"
   ]
  },
  {
   "cell_type": "code",
   "execution_count": 37,
   "metadata": {},
   "outputs": [
    {
     "data": {
      "text/plain": [
       "(tensor([[0., 0., 0., 0., 0., 0., 0., 0., 0., 0., 0., 0., 0., 0., 0., 0., 1., 0.]]),\n",
       " tensor([[[0., 0., 0., 0., 0., 0., 0., 0., 0., 0., 0., 0., 0., 0., 0., 0., 0.,\n",
       "           0., 0., 0., 0., 0., 0., 0., 0., 0., 0., 0., 0., 0., 0., 0., 0., 0.,\n",
       "           0., 0., 0., 0., 0., 0., 0., 0., 0., 0., 0., 0., 0., 0., 0., 0., 1.,\n",
       "           0., 0., 0., 0., 0., 0., 0., 0.]],\n",
       " \n",
       "         [[1., 0., 0., 0., 0., 0., 0., 0., 0., 0., 0., 0., 0., 0., 0., 0., 0.,\n",
       "           0., 0., 0., 0., 0., 0., 0., 0., 0., 0., 0., 0., 0., 0., 0., 0., 0.,\n",
       "           0., 0., 0., 0., 0., 0., 0., 0., 0., 0., 0., 0., 0., 0., 0., 0., 0.,\n",
       "           0., 0., 0., 0., 0., 0., 0., 0.]],\n",
       " \n",
       "         [[0., 0., 0., 0., 0., 0., 0., 0., 0., 0., 0., 0., 0., 1., 0., 0., 0.,\n",
       "           0., 0., 0., 0., 0., 0., 0., 0., 0., 0., 0., 0., 0., 0., 0., 0., 0.,\n",
       "           0., 0., 0., 0., 0., 0., 0., 0., 0., 0., 0., 0., 0., 0., 0., 0., 0.,\n",
       "           0., 0., 0., 0., 0., 0., 0., 0.]],\n",
       " \n",
       "         [[0., 0., 0., 0., 0., 0., 1., 0., 0., 0., 0., 0., 0., 0., 0., 0., 0.,\n",
       "           0., 0., 0., 0., 0., 0., 0., 0., 0., 0., 0., 0., 0., 0., 0., 0., 0.,\n",
       "           0., 0., 0., 0., 0., 0., 0., 0., 0., 0., 0., 0., 0., 0., 0., 0., 0.,\n",
       "           0., 0., 0., 0., 0., 0., 0., 0.]]]),\n",
       " tensor([ 0, 13,  6, 58]))"
      ]
     },
     "execution_count": 37,
     "metadata": {},
     "output_type": "execute_result"
    }
   ],
   "source": [
    "random_training_example()"
   ]
  },
  {
   "cell_type": "code",
   "execution_count": 38,
   "metadata": {},
   "outputs": [],
   "source": [
    "class RNN(nn.Module):\n",
    "    def __init__(\n",
    "        self,\n",
    "        input_size,\n",
    "        hidden_size,\n",
    "        output_size,\n",
    "    ):\n",
    "        super(RNN, self).__init__()\n",
    "        self.hidden_size = hidden_size\n",
    "        self.input_2_hidden = nn.Linear(\n",
    "            n_categories + input_size + hidden_size, hidden_size\n",
    "        )\n",
    "        self.input_2_output = nn.Linear(\n",
    "            n_categories + input_size + hidden_size, output_size\n",
    "        )\n",
    "        self.output_2_output = nn.Linear(hidden_size + output_size, output_size)\n",
    "        self.dropout = nn.Dropout(0.1)\n",
    "        self.softmax = nn.LogSoftmax(dim=1)\n",
    "\n",
    "    def forward(\n",
    "        self,\n",
    "        category,\n",
    "        input,\n",
    "        hidden,\n",
    "    ):\n",
    "        input_combined = torch.cat((category, input, hidden), 1)\n",
    "        hidden = self.input_2_hidden(input_combined)\n",
    "        output = self.input_2_output(input_combined)\n",
    "        output_combined = torch.cat((hidden, output), 1)\n",
    "        output = self.output_2_output(output_combined)\n",
    "        output = self.dropout(output)\n",
    "        output = self.softmax(output)\n",
    "        return output, hidden\n",
    "\n",
    "    def init_hidden(\n",
    "        self,\n",
    "    ):\n",
    "        return torch.zeros(1, self.hidden_size)"
   ]
  },
  {
   "cell_type": "code",
   "execution_count": 41,
   "metadata": {},
   "outputs": [],
   "source": [
    "criterion = nn.NLLLoss()\n",
    "learning_rate = 5e-3\n",
    "rnn = RNN(n_letters, 128, n_letters)"
   ]
  },
  {
   "cell_type": "code",
   "execution_count": 42,
   "metadata": {},
   "outputs": [],
   "source": [
    "def train(\n",
    "    category_tensor,\n",
    "    input_line_tensor,\n",
    "    target_line_tensor,\n",
    "):\n",
    "    target_line_tensor.unsqueeze_(-1)\n",
    "    hidden = rnn.init_hidden()\n",
    "    rnn.zero_grad()\n",
    "    loss = torch.Tensor([0])\n",
    "    for i in range(input_line_tensor.size()[0]):\n",
    "        output, hidden = rnn(category_tensor, input_line_tensor[i], hidden)\n",
    "        l = criterion(output, target_line_tensor[i])\n",
    "        loss += l\n",
    "    loss.backward()\n",
    "    for p in rnn.parameters():\n",
    "        p.data.add_(p.grad.data, alpha=-learning_rate)\n",
    "    return output, loss.item() / input_line_tensor.size()[0]"
   ]
  },
  {
   "cell_type": "code",
   "execution_count": 44,
   "metadata": {},
   "outputs": [],
   "source": [
    "def time_since(since):\n",
    "    now = time.time()\n",
    "    s = now - since\n",
    "    m = math.floor(s / 60)\n",
    "    s -= m * 60\n",
    "    return f\"{int(m)}m {int(s)}s\""
   ]
  },
  {
   "cell_type": "code",
   "execution_count": 49,
   "metadata": {},
   "outputs": [
    {
     "name": "stdout",
     "output_type": "stream",
     "text": [
      "0m 5s:5000 1.7643\n",
      "0m 10s:10000 1.8927\n",
      "0m 14s:15000 2.1931\n",
      "0m 19s:20000 2.1433\n",
      "0m 24s:25000 1.9721\n",
      "0m 29s:30000 2.1409\n",
      "0m 35s:35000 1.2303\n",
      "0m 40s:40000 2.4852\n",
      "0m 45s:45000 3.2010\n",
      "0m 50s:50000 2.9604\n",
      "0m 55s:55000 1.8826\n",
      "0m 59s:60000 2.9063\n",
      "1m 4s:65000 1.8387\n",
      "1m 9s:70000 2.7343\n",
      "1m 14s:75000 2.3397\n",
      "1m 19s:80000 1.9127\n",
      "1m 24s:85000 2.2816\n",
      "1m 30s:90000 1.4227\n",
      "1m 35s:95000 1.9622\n",
      "1m 41s:100000 2.4722\n"
     ]
    }
   ],
   "source": [
    "n_iters = 100000\n",
    "max_length = 20\n",
    "print_every = 5000\n",
    "plot_every = 1000\n",
    "\n",
    "total_loss = 0\n",
    "all_losses = []\n",
    "\n",
    "start = time.time()\n",
    "\n",
    "for iter in range(1, n_iters + 1):\n",
    "    category_tensor, line_tensor, target_tensor = random_training_example()\n",
    "    output, loss = train(category_tensor, line_tensor, target_tensor)\n",
    "    total_loss += loss\n",
    "    if iter % print_every == 0:\n",
    "        print(f\"{time_since(start)}:{iter} {loss:.4f}\")\n",
    "    if iter % plot_every == 0:\n",
    "        all_losses.append(total_loss / plot_every)\n",
    "        total_loss = 0"
   ]
  },
  {
   "cell_type": "code",
   "execution_count": 50,
   "metadata": {},
   "outputs": [
    {
     "data": {
      "text/plain": [
       "[<matplotlib.lines.Line2D at 0x12df2cd10>]"
      ]
     },
     "execution_count": 50,
     "metadata": {},
     "output_type": "execute_result"
    },
    {
     "data": {
      "image/png": "[encoded data removed]",
      "text/plain": [
       "<Figure size 640x480 with 1 Axes>"
      ]
     },
     "metadata": {},
     "output_type": "display_data"
    }
   ],
   "source": [
    "plt.plot(all_losses)"
   ]
  },
  {
   "cell_type": "code",
   "execution_count": 51,
   "metadata": {},
   "outputs": [],
   "source": [
    "def sample(\n",
    "    category,\n",
    "    start_letter=\"A\",\n",
    "):\n",
    "    with torch.no_grad():\n",
    "        category_tensor = category_to_tensor(category)\n",
    "        input_tensor = letter_to_tensor(start_letter)\n",
    "        hidden = rnn.init_hidden()\n",
    "        output_name = start_letter\n",
    "        for i in range(max_length):\n",
    "            output, hidden = rnn(category_tensor, input_tensor, hidden)\n",
    "            topv, topi = output.topk(1)\n",
    "            topi = topi[0][0]\n",
    "            if topi == n_letters - 1:\n",
    "                break\n",
    "            else:\n",
    "                letter = all_letters[topi]\n",
    "                output_name += letter\n",
    "            input_tensor = letter_to_tensor(letter)\n",
    "        return output_name\n",
    "\n",
    "\n",
    "def samples(\n",
    "    category,\n",
    "    start_letters=\"ABC\",\n",
    "):\n",
    "    for start_letter in start_letters:\n",
    "        print(sample(category, start_letter))"
   ]
  },
  {
   "cell_type": "code",
   "execution_count": 52,
   "metadata": {},
   "outputs": [
    {
     "name": "stdout",
     "output_type": "stream",
     "text": [
      "Rodhikivighinivoki\n",
      "Undinhivikiv\n",
      "Shimakhinivaki\n",
      "Graster\n",
      "Ester\n",
      "Roshart\n",
      "Salara\n",
      "Para\n",
      "Alasan\n",
      "Chu\n",
      "Hang\n",
      "Ino\n"
     ]
    }
   ],
   "source": [
    "samples(\"Russian\", \"RUS\")\n",
    "samples(\"German\", \"GER\")\n",
    "samples(\"Spanish\", \"SPA\")\n",
    "samples(\"Chinese\", \"CHI\")"
   ]
  }
 ],
 "metadata": {
  "kernelspec": {
   "display_name": "llm-env",
   "language": "python",
   "name": "python3"
  },
  "language_info": {
   "codemirror_mode": {
    "name": "ipython",
    "version": 3
   },
   "file_extension": ".py",
   "mimetype": "text/x-python",
   "name": "python",
   "nbconvert_exporter": "python",
   "pygments_lexer": "ipython3",
   "version": "3.11.8"
  }
 },
 "nbformat": 4,
 "nbformat_minor": 2
}
