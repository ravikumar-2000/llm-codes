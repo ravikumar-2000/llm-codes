{
 "cells": [
  {
   "cell_type": "code",
   "execution_count": 74,
   "metadata": {},
   "outputs": [],
   "source": [
    "import os\n",
    "import glob\n",
    "import math\n",
    "import time\n",
    "import string\n",
    "import random\n",
    "import unicodedata\n",
    "import matplotlib.pyplot as plt\n",
    "import matplotlib.ticker as ticker\n",
    "\n",
    "import torch\n",
    "from torch import nn, optim\n",
    "import torch.nn.functional as F"
   ]
  },
  {
   "cell_type": "code",
   "execution_count": 2,
   "metadata": {},
   "outputs": [],
   "source": [
    "def find_files(path):\n",
    "    return glob.glob(path)"
   ]
  },
  {
   "cell_type": "code",
   "execution_count": 3,
   "metadata": {},
   "outputs": [
    {
     "data": {
      "text/plain": [
       "['datasets/names_data/names/Czech.txt',\n",
       " 'datasets/names_data/names/German.txt',\n",
       " 'datasets/names_data/names/Arabic.txt',\n",
       " 'datasets/names_data/names/Japanese.txt',\n",
       " 'datasets/names_data/names/Chinese.txt',\n",
       " 'datasets/names_data/names/Vietnamese.txt',\n",
       " 'datasets/names_data/names/Russian.txt',\n",
       " 'datasets/names_data/names/French.txt',\n",
       " 'datasets/names_data/names/Irish.txt',\n",
       " 'datasets/names_data/names/English.txt',\n",
       " 'datasets/names_data/names/Spanish.txt',\n",
       " 'datasets/names_data/names/Greek.txt',\n",
       " 'datasets/names_data/names/Italian.txt',\n",
       " 'datasets/names_data/names/Portuguese.txt',\n",
       " 'datasets/names_data/names/Scottish.txt',\n",
       " 'datasets/names_data/names/Dutch.txt',\n",
       " 'datasets/names_data/names/Korean.txt',\n",
       " 'datasets/names_data/names/Polish.txt']"
      ]
     },
     "execution_count": 3,
     "metadata": {},
     "output_type": "execute_result"
    }
   ],
   "source": [
    "find_files(\"datasets/names_data/names/*.txt\")"
   ]
  },
  {
   "cell_type": "code",
   "execution_count": 4,
   "metadata": {},
   "outputs": [],
   "source": [
    "all_letters = string.ascii_letters + \" .,;'\"\n",
    "n_letters = len(all_letters)"
   ]
  },
  {
   "cell_type": "code",
   "execution_count": 5,
   "metadata": {},
   "outputs": [],
   "source": [
    "def unicode_to_ascii(word):\n",
    "    return \"\".join(\n",
    "        c\n",
    "        for c in unicodedata.normalize(\"NFD\", word)\n",
    "        if unicodedata.category(c) != \"Mn\" and c in all_letters\n",
    "    )"
   ]
  },
  {
   "cell_type": "code",
   "execution_count": 6,
   "metadata": {},
   "outputs": [
    {
     "data": {
      "text/plain": [
       "('Slusarski', 'Jalapeno')"
      ]
     },
     "execution_count": 6,
     "metadata": {},
     "output_type": "execute_result"
    }
   ],
   "source": [
    "unicode_to_ascii(\"Ślusàrski\"), unicode_to_ascii(\"Jalapeño\")"
   ]
  },
  {
   "cell_type": "code",
   "execution_count": 7,
   "metadata": {},
   "outputs": [],
   "source": [
    "def read_lines(filename):\n",
    "    lines = open(filename, encoding=\"utf-8\").read().strip().split(\"\\n\")\n",
    "    return [unicode_to_ascii(line) for line in lines]"
   ]
  },
  {
   "cell_type": "code",
   "execution_count": 8,
   "metadata": {},
   "outputs": [],
   "source": [
    "category_lines = {}\n",
    "all_categories = []\n",
    "\n",
    "\n",
    "for filename in find_files(\"datasets/names_data/names/*.txt\"):\n",
    "    category = os.path.splitext(os.path.basename(filename))[0]\n",
    "    all_categories.append(category)\n",
    "    lines = read_lines(filename)\n",
    "    category_lines[category] = lines\n",
    "\n",
    "n_categories = len(all_categories)"
   ]
  },
  {
   "cell_type": "code",
   "execution_count": 9,
   "metadata": {},
   "outputs": [
    {
     "data": {
      "text/plain": [
       "['Abandonato', 'Abatangelo', 'Abatantuono', 'Abate', 'Abategiovanni']"
      ]
     },
     "execution_count": 9,
     "metadata": {},
     "output_type": "execute_result"
    }
   ],
   "source": [
    "category_lines[\"Italian\"][:5]"
   ]
  },
  {
   "cell_type": "code",
   "execution_count": 32,
   "metadata": {},
   "outputs": [],
   "source": [
    "def letter_to_index(letter):\n",
    "    return all_letters.find(letter)\n",
    "\n",
    "\n",
    "def letter_to_tensor(letter):\n",
    "    tensor = torch.zeros(1, n_letters)\n",
    "    tensor[0][letter_to_index(letter)] = 1\n",
    "    return tensor\n",
    "\n",
    "\n",
    "def line_to_tensor(line):\n",
    "    tensor = torch.zeros(len(line), 1, n_letters)\n",
    "    for idx, letter in enumerate(line):\n",
    "        tensor[idx] = letter_to_tensor(letter)\n",
    "    return tensor\n",
    "\n",
    "\n",
    "def category_from_output(output):\n",
    "    top_n, top_i = output.topk(1)\n",
    "    category_i = top_i[0].item()\n",
    "    return all_categories[category_i], category_i"
   ]
  },
  {
   "cell_type": "code",
   "execution_count": 22,
   "metadata": {},
   "outputs": [
    {
     "name": "stdout",
     "output_type": "stream",
     "text": [
      "tensor([[0., 0., 0., 0., 0., 0., 0., 0., 0., 0., 0., 0., 0., 0., 0., 0., 0., 0.,\n",
      "         0., 0., 0., 0., 0., 0., 0., 0., 0., 0., 0., 0., 0., 0., 0., 0., 0., 1.,\n",
      "         0., 0., 0., 0., 0., 0., 0., 0., 0., 0., 0., 0., 0., 0., 0., 0., 0., 0.,\n",
      "         0., 0., 0.]])\n",
      "torch.Size([5, 1, 57])\n"
     ]
    }
   ],
   "source": [
    "print(letter_to_tensor(\"J\"))\n",
    "print(line_to_tensor(\"Jones\").size())"
   ]
  },
  {
   "cell_type": "code",
   "execution_count": 26,
   "metadata": {},
   "outputs": [],
   "source": [
    "class RNN(nn.Module):\n",
    "    def __init__(\n",
    "        self,\n",
    "        input_size,\n",
    "        hidden_size,\n",
    "        output_size,\n",
    "    ):\n",
    "        super(RNN, self).__init__()\n",
    "        self.hidden_size = hidden_size\n",
    "        self.input_2_hidden = nn.Linear(input_size, hidden_size)\n",
    "        self.hidden_2_hidden = nn.Linear(hidden_size, hidden_size)\n",
    "        self.hidden_2_output = nn.Linear(hidden_size, output_size)\n",
    "        self.softmax = nn.LogSoftmax(dim=1)\n",
    "\n",
    "    def forward(\n",
    "        self,\n",
    "        input,\n",
    "        hidden,\n",
    "    ):\n",
    "        hidden = F.tanh(self.input_2_hidden(input) + self.hidden_2_hidden(hidden))\n",
    "        output = self.hidden_2_output(hidden)\n",
    "        output = self.softmax(output)\n",
    "        return output, hidden\n",
    "\n",
    "    def init_hidden(\n",
    "        self,\n",
    "    ):\n",
    "        return torch.zeros(1, self.hidden_size)"
   ]
  },
  {
   "cell_type": "code",
   "execution_count": 37,
   "metadata": {},
   "outputs": [
    {
     "name": "stdout",
     "output_type": "stream",
     "text": [
      "torch.Size([1, 18]) torch.Size([1, 128]) ('German', 1)\n"
     ]
    }
   ],
   "source": [
    "n_hidden = 128\n",
    "rnn = RNN(n_letters, n_hidden, n_categories)\n",
    "input = line_to_tensor(\"Albert\")\n",
    "hidden = torch.zeros(1, n_hidden)\n",
    "output, next_hidden = rnn(input[0], hidden)\n",
    "print(output.shape, next_hidden.shape, category_from_output(output))"
   ]
  },
  {
   "cell_type": "code",
   "execution_count": 50,
   "metadata": {},
   "outputs": [],
   "source": [
    "def random_training_pair():\n",
    "    category = random.choice(all_categories)\n",
    "    line = random.choice(category_lines[category])\n",
    "    category_tensor = torch.tensor([all_categories.index(category)], dtype=torch.long)\n",
    "    line_tensor = line_to_tensor(line)\n",
    "    return category, line, category_tensor, line_tensor"
   ]
  },
  {
   "cell_type": "code",
   "execution_count": 53,
   "metadata": {},
   "outputs": [
    {
     "name": "stdout",
     "output_type": "stream",
     "text": [
      "category = Greek  line = Milionis\n",
      "category = Dutch  line = Klerkx\n",
      "category = Czech  line = Stramba\n",
      "category = Russian  line = Abarinov\n",
      "category = Scottish  line = Millar\n",
      "category = French  line = Tailler\n",
      "category = Arabic  line = Sayegh\n",
      "category = French  line = Gagnon\n",
      "category = Arabic  line = Maroun\n",
      "category = Spanish  line = Felix\n"
     ]
    }
   ],
   "source": [
    "for i in range(10):\n",
    "    category, line, category_tensor, line_tensor = random_training_pair()\n",
    "    print(\"category =\", category, \" line =\", line)"
   ]
  },
  {
   "cell_type": "code",
   "execution_count": 54,
   "metadata": {},
   "outputs": [],
   "source": [
    "criterion = nn.NLLLoss()\n",
    "learning_rate = 5e-3"
   ]
  },
  {
   "cell_type": "code",
   "execution_count": 55,
   "metadata": {},
   "outputs": [],
   "source": [
    "def train(category_tensor, line_tensor):\n",
    "    hidden = rnn.init_hidden()\n",
    "    rnn.zero_grad()\n",
    "    for i in range(line_tensor.size()[0]):\n",
    "        output, hidden = rnn(line_tensor[i], hidden)\n",
    "    loss = criterion(output, category_tensor)\n",
    "    loss.backward()\n",
    "    for p in rnn.parameters():\n",
    "        p.data.add_(p.grad.data, alpha=-learning_rate)\n",
    "    return output, loss.item()"
   ]
  },
  {
   "cell_type": "code",
   "execution_count": 64,
   "metadata": {},
   "outputs": [],
   "source": [
    "def evaluate(line_tensor):\n",
    "    hidden = rnn.init_hidden()\n",
    "    for i in range(line_tensor.size()[0]):\n",
    "        output, hidden = rnn(line_tensor[i], hidden)\n",
    "    return output"
   ]
  },
  {
   "cell_type": "code",
   "execution_count": 60,
   "metadata": {},
   "outputs": [],
   "source": [
    "def time_since(since):\n",
    "    now = time.time()\n",
    "    s = now - since\n",
    "    m = math.floor(s / 60)\n",
    "    s -= m * 60\n",
    "    return f'{int(m)}m {int(s)}s'"
   ]
  },
  {
   "cell_type": "code",
   "execution_count": 61,
   "metadata": {},
   "outputs": [
    {
     "name": "stdout",
     "output_type": "stream",
     "text": [
      "0m 2s:5000 2.1579 ✗ (Scottish)\n",
      "0m 5s:10000 0.8323 ✓\n",
      "0m 7s:15000 2.0355 ✗ (English)\n",
      "0m 10s:20000 2.6658 ✗ (Scottish)\n",
      "0m 12s:25000 2.3586 ✗ (English)\n",
      "0m 15s:30000 3.5945 ✗ (Czech)\n",
      "0m 17s:35000 1.9107 ✗ (French)\n",
      "0m 20s:40000 0.4087 ✓\n",
      "0m 22s:45000 0.4424 ✓\n",
      "0m 25s:50000 1.8229 ✗ (Scottish)\n",
      "0m 27s:55000 0.4918 ✓\n",
      "0m 30s:60000 0.7215 ✓\n",
      "0m 32s:65000 0.3911 ✓\n",
      "0m 35s:70000 1.5332 ✗ (Italian)\n",
      "0m 37s:75000 1.2412 ✗ (Spanish)\n",
      "0m 40s:80000 1.5878 ✗ (Chinese)\n",
      "0m 43s:85000 0.2202 ✓\n",
      "0m 45s:90000 0.0634 ✓\n",
      "0m 48s:95000 1.5015 ✗ (Dutch)\n",
      "0m 50s:100000 0.0138 ✓\n"
     ]
    }
   ],
   "source": [
    "n_iters = 100000\n",
    "print_every = 5000\n",
    "plot_every = 1000\n",
    "\n",
    "current_loss = 0\n",
    "all_losses = []\n",
    "\n",
    "start = time.time()\n",
    "\n",
    "for iter in range(1, n_iters + 1):\n",
    "    category, line, category_tensor, line_tensor = random_training_pair()\n",
    "    output, loss = train(category_tensor, line_tensor)\n",
    "    current_loss += loss\n",
    "    if iter % print_every == 0:\n",
    "        guess, guess_i = category_from_output(output)\n",
    "        correct = \"✓\" if guess == category else f\"✗ ({category})\"\n",
    "        print(f\"{time_since(start)}:{iter} {loss:.4f} {correct}\")\n",
    "    if iter % plot_every == 0:\n",
    "        all_losses.append(current_loss / plot_every)\n",
    "        current_loss = 0"
   ]
  },
  {
   "cell_type": "code",
   "execution_count": 63,
   "metadata": {},
   "outputs": [
    {
     "data": {
      "text/plain": [
       "[<matplotlib.lines.Line2D at 0x126d5b610>]"
      ]
     },
     "execution_count": 63,
     "metadata": {},
     "output_type": "execute_result"
    },
    {
     "data": {
      "image/png": "[encoded data removed]",
      "text/plain": [
       "<Figure size 640x480 with 1 Axes>"
      ]
     },
     "metadata": {},
     "output_type": "display_data"
    }
   ],
   "source": [
    "plt.plot(all_losses)"
   ]
  },
  {
   "cell_type": "code",
   "execution_count": 65,
   "metadata": {},
   "outputs": [],
   "source": [
    "n_confusion = 10000\n",
    "confusion = torch.zeros(n_categories, n_categories)\n",
    "\n",
    "for i in range(n_confusion):\n",
    "    category, line, category_tensor, line_tensor = random_training_pair()\n",
    "    output = evaluate(line_tensor)\n",
    "    guess, guess_i = category_from_output(output)\n",
    "    category_i = all_categories.index(category)\n",
    "    confusion[category_i][guess_i] += 1"
   ]
  },
  {
   "cell_type": "code",
   "execution_count": 67,
   "metadata": {},
   "outputs": [],
   "source": [
    "for i in range(n_categories):\n",
    "    confusion[i] = confusion[i] / confusion[i].sum()"
   ]
  },
  {
   "cell_type": "code",
   "execution_count": 75,
   "metadata": {},
   "outputs": [
    {
     "name": "stderr",
     "output_type": "stream",
     "text": [
      "/var/folders/zv/qv06y_fn12dcgpls9z54mk7h0000gn/T/ipykernel_5083/1641162545.py:5: UserWarning: set_ticklabels() should only be used with a fixed number of ticks, i.e. after set_ticks() or using a FixedLocator.\n",
      "  ax.set_xticklabels([''] + all_categories, rotation=90)\n",
      "/var/folders/zv/qv06y_fn12dcgpls9z54mk7h0000gn/T/ipykernel_5083/1641162545.py:6: UserWarning: set_ticklabels() should only be used with a fixed number of ticks, i.e. after set_ticks() or using a FixedLocator.\n",
      "  ax.set_yticklabels([''] + all_categories)\n"
     ]
    },
    {
     "data": {
      "image/png": "[encoded data removed]",
      "text/plain": [
       "<Figure size 640x480 with 2 Axes>"
      ]
     },
     "metadata": {},
     "output_type": "display_data"
    }
   ],
   "source": [
    "fig = plt.figure()\n",
    "ax = fig.add_subplot(111)\n",
    "cax = ax.matshow(confusion.numpy())\n",
    "fig.colorbar(cax)\n",
    "ax.set_xticklabels([''] + all_categories, rotation=90)\n",
    "ax.set_yticklabels([''] + all_categories)\n",
    "ax.xaxis.set_major_locator(ticker.MultipleLocator(1))\n",
    "ax.yaxis.set_major_locator(ticker.MultipleLocator(1))"
   ]
  },
  {
   "cell_type": "code",
   "execution_count": 80,
   "metadata": {},
   "outputs": [
    {
     "name": "stdout",
     "output_type": "stream",
     "text": [
      "\n",
      "user input: Elon\n",
      "1. English: -0.882845401763916\n",
      "2. Irish: -1.247511386871338\n",
      "3. Scottish: -1.5735678672790527\n",
      "\n",
      "user input: Jackson\n",
      "1. Scottish: -0.025896284729242325\n",
      "2. English: -4.0196051597595215\n",
      "3. Czech: -5.806127548217773\n",
      "\n",
      "user input: Satoshi\n",
      "1. Japanese: -0.3907485008239746\n",
      "2. Italian: -2.2329301834106445\n",
      "3. Portuguese: -2.6126673221588135\n"
     ]
    }
   ],
   "source": [
    "def predict(input_line, n_predictions=3):\n",
    "    print(f'\\nuser input: {input_line}')\n",
    "    with torch.no_grad():\n",
    "        output = evaluate(line_to_tensor(input_line))\n",
    "        topv, topi = output.topk(n_predictions, 1, True)\n",
    "        predictions = []\n",
    "\n",
    "        for i in range(n_predictions):\n",
    "            value = topv[0][i].item()\n",
    "            category_index = topi[0][i].item()\n",
    "            print(f'{i+1}. {all_categories[category_index]}: {value}')\n",
    "            predictions.append([value, all_categories[category_index]])\n",
    "\n",
    "predict('Elon')\n",
    "predict('Jackson')\n",
    "predict('Satoshi')"
   ]
  }
 ],
 "metadata": {
  "kernelspec": {
   "display_name": "llm-env",
   "language": "python",
   "name": "python3"
  },
  "language_info": {
   "codemirror_mode": {
    "name": "ipython",
    "version": 3
   },
   "file_extension": ".py",
   "mimetype": "text/x-python",
   "name": "python",
   "nbconvert_exporter": "python",
   "pygments_lexer": "ipython3",
   "version": "3.11.8"
  }
 },
 "nbformat": 4,
 "nbformat_minor": 2
}
